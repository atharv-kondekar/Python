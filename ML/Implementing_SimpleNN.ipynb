{
 "cells": [
  {
   "cell_type": "markdown",
   "id": "4f87d723-810c-4f5c-bf17-70c62af1a967",
   "metadata": {},
   "source": [
    "# Implementing Simple Neural network using the Sigmoid Activation Funtion "
   ]
  },
  {
   "cell_type": "code",
   "execution_count": 3,
   "id": "f3853060-c081-4233-a589-3e30ba93bec5",
   "metadata": {},
   "outputs": [],
   "source": [
    "import numpy as np"
   ]
  },
  {
   "cell_type": "code",
   "execution_count": 5,
   "id": "3ef2ea43-5fcc-46c7-8339-88675645e119",
   "metadata": {},
   "outputs": [
    {
     "name": "stdin",
     "output_type": "stream",
     "text": [
      "\n",
      "Enter => How many Inputs are there:  3\n",
      "\n",
      " Enter the 1 input data :  0.5\n",
      "\n",
      " Enter the weigtht for 1 input  data :  0.8\n",
      "\n",
      " Enter the 2 input data :  0.3\n",
      "\n",
      " Enter the weigtht for 2 input  data :  0.4\n",
      "\n",
      " Enter the 3 input data :  0.2\n",
      "\n",
      " Enter the weigtht for 3 input  data :  0.3\n",
      "\n",
      " Enter the Bias for the Model :  0.1\n"
     ]
    },
    {
     "name": "stdout",
     "output_type": "stream",
     "text": [
      "\n",
      " The Weighted Sum of the Inputs and it weights :  0.68\n",
      "\n",
      " Neuron Output for the Sigmoid Activation Funtion :  0.6637386974043528\n"
     ]
    }
   ],
   "source": [
    "def sigmoid(x):\n",
    "  return 1/(1+np.exp(-x))\n",
    "\n",
    "\n",
    "inputs=[]\n",
    "weights=[]\n",
    "\n",
    "n = int(input(\"\\nEnter => How many Inputs are there: \"))\n",
    "\n",
    "for i in range (0,n):\n",
    "  ip=float(input(f\"\\n Enter the {i+1} input data : \"))\n",
    "  we=float(input(f\"\\n Enter the weigtht for {i+1} input  data : \"))\n",
    "\n",
    "  inputs.append(ip)\n",
    "  weights.append(we)\n",
    "  \n",
    "ip_arr=np.array(inputs)\n",
    "wg_arr=np.array(weights)\n",
    "bias=float(input(\"\\n Enter the Bias for the Model : \"))\n",
    "\n",
    "weighted_sum=np.dot(ip_arr,wg_arr)+bias\n",
    "\n",
    "output=sigmoid(weighted_sum)\n",
    "\n",
    "print(\"\\n The Weighted Sum of the Inputs and it weights : \",weighted_sum)\n",
    "print(\"\\n Neuron Output for the Sigmoid Activation Funtion : \",output)\n"
   ]
  },
  {
   "cell_type": "markdown",
   "id": "e5beb2a1-96ff-4cf7-a2c3-e5e770caf17f",
   "metadata": {},
   "source": [
    "# step funtion for the Light ON/OFF"
   ]
  },
  {
   "cell_type": "code",
   "execution_count": 13,
   "id": "cca13183-a6b2-4656-8539-e0e222b15c33",
   "metadata": {},
   "outputs": [
    {
     "name": "stdin",
     "output_type": "stream",
     "text": [
      "\n",
      " Enter=> How many Inputs are there :  3\n",
      "\n",
      " Enter the data for the 1 input :   0.5\n",
      "\n",
      " Enter the weight for the 0.5 input data :   0.8\n",
      "\n",
      " Enter the data for the 2 input :   0.3\n",
      "\n",
      " Enter the weight for the 0.3 input data :   0.4\n",
      "\n",
      " Enter the data for the 3 input :   0.2\n",
      "\n",
      " Enter the weight for the 0.2 input data :   0.3\n",
      "\n",
      " Enter the bias for the Model :  0.01\n"
     ]
    },
    {
     "name": "stdout",
     "output_type": "stream",
     "text": [
      "\n",
      " The Total Signal Strenght :  0.5900000000000001\n",
      "\n",
      " The Light gets  ON \n"
     ]
    }
   ],
   "source": [
    "def stepfun(x):\n",
    "    return 1 if x>=0 else 0\n",
    "\n",
    "n=int(input(\"\\n Enter=> How many Inputs are there : \"))\n",
    "\n",
    "inputs=[]\n",
    "weights=[]\n",
    "\n",
    "for i in range (0,n):\n",
    "    ip=float(input(f\"\\n Enter the data for the {i+1} input :  \"))\n",
    "    we=float(input(f\"\\n Enter the weight for the {ip} input data :  \"))\n",
    "\n",
    "    inputs.append(ip)\n",
    "    weights.append(we)\n",
    "\n",
    "ip_arr=np.array(inputs)\n",
    "wg_arr=np.array(weights)\n",
    "\n",
    "bias=float(input(\"\\n Enter the bias for the Model : \"))\n",
    "\n",
    "weighted_sum=np.dot(ip_arr,wg_arr)+bias\n",
    "output=stepfun(weighted_sum)\n",
    "\n",
    "print(\"\\n The Total Signal Strenght : \",weighted_sum)\n",
    "if output==1:\n",
    "    print(\"\\n The Light gets  ON \")\n",
    "else:\n",
    "    print(\"\\n The Light stays OFF Becuase of the Low Signal Strenght\")"
   ]
  }
 ],
 "metadata": {
  "kernelspec": {
   "display_name": "Python [conda env:base] *",
   "language": "python",
   "name": "conda-base-py"
  },
  "language_info": {
   "codemirror_mode": {
    "name": "ipython",
    "version": 3
   },
   "file_extension": ".py",
   "mimetype": "text/x-python",
   "name": "python",
   "nbconvert_exporter": "python",
   "pygments_lexer": "ipython3",
   "version": "3.12.7"
  }
 },
 "nbformat": 4,
 "nbformat_minor": 5
}
